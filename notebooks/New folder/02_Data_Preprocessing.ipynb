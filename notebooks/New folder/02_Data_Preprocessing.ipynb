{
 "cells": [
  {
   "cell_type": "code",
   "execution_count": 2,
   "id": "f08dbb50",
   "metadata": {},
   "outputs": [
    {
     "data": {
      "text/html": [
       "<div>\n",
       "<style scoped>\n",
       "    .dataframe tbody tr th:only-of-type {\n",
       "        vertical-align: middle;\n",
       "    }\n",
       "\n",
       "    .dataframe tbody tr th {\n",
       "        vertical-align: top;\n",
       "    }\n",
       "\n",
       "    .dataframe thead th {\n",
       "        text-align: right;\n",
       "    }\n",
       "</style>\n",
       "<table border=\"1\" class=\"dataframe\">\n",
       "  <thead>\n",
       "    <tr style=\"text-align: right;\">\n",
       "      <th></th>\n",
       "      <th>EmployeeID</th>\n",
       "      <th>Name</th>\n",
       "      <th>Department</th>\n",
       "      <th>Gender</th>\n",
       "      <th>JobRole</th>\n",
       "      <th>Education</th>\n",
       "      <th>Age</th>\n",
       "      <th>Salary</th>\n",
       "      <th>Bonus</th>\n",
       "      <th>Attrition</th>\n",
       "      <th>TotalCompensation</th>\n",
       "    </tr>\n",
       "  </thead>\n",
       "  <tbody>\n",
       "    <tr>\n",
       "      <th>0</th>\n",
       "      <td>1001</td>\n",
       "      <td>Emp_1</td>\n",
       "      <td>Sales</td>\n",
       "      <td>Male</td>\n",
       "      <td>Manager</td>\n",
       "      <td>High School</td>\n",
       "      <td>39</td>\n",
       "      <td>39239.0</td>\n",
       "      <td>6909</td>\n",
       "      <td>No</td>\n",
       "      <td>46148.0</td>\n",
       "    </tr>\n",
       "    <tr>\n",
       "      <th>1</th>\n",
       "      <td>1002</td>\n",
       "      <td>Emp_2</td>\n",
       "      <td>Marketing</td>\n",
       "      <td>Male</td>\n",
       "      <td>Consultant</td>\n",
       "      <td>Masters</td>\n",
       "      <td>53</td>\n",
       "      <td>30416.0</td>\n",
       "      <td>17150</td>\n",
       "      <td>No</td>\n",
       "      <td>47566.0</td>\n",
       "    </tr>\n",
       "    <tr>\n",
       "      <th>2</th>\n",
       "      <td>1003</td>\n",
       "      <td>Emp_3</td>\n",
       "      <td>IT</td>\n",
       "      <td>Female</td>\n",
       "      <td>Executive</td>\n",
       "      <td>High School</td>\n",
       "      <td>24</td>\n",
       "      <td>23412.0</td>\n",
       "      <td>28602</td>\n",
       "      <td>No</td>\n",
       "      <td>52014.0</td>\n",
       "    </tr>\n",
       "    <tr>\n",
       "      <th>3</th>\n",
       "      <td>1004</td>\n",
       "      <td>Emp_4</td>\n",
       "      <td>Marketing</td>\n",
       "      <td>Female</td>\n",
       "      <td>Engineer</td>\n",
       "      <td>Masters</td>\n",
       "      <td>23</td>\n",
       "      <td>101976.0</td>\n",
       "      <td>5080</td>\n",
       "      <td>No</td>\n",
       "      <td>107056.0</td>\n",
       "    </tr>\n",
       "    <tr>\n",
       "      <th>4</th>\n",
       "      <td>1005</td>\n",
       "      <td>Emp_5</td>\n",
       "      <td>Marketing</td>\n",
       "      <td>Male</td>\n",
       "      <td>Executive</td>\n",
       "      <td>PhD</td>\n",
       "      <td>54</td>\n",
       "      <td>44406.0</td>\n",
       "      <td>7083</td>\n",
       "      <td>No</td>\n",
       "      <td>51489.0</td>\n",
       "    </tr>\n",
       "  </tbody>\n",
       "</table>\n",
       "</div>"
      ],
      "text/plain": [
       "   EmployeeID   Name Department  Gender     JobRole    Education  Age  \\\n",
       "0        1001  Emp_1      Sales    Male     Manager  High School   39   \n",
       "1        1002  Emp_2  Marketing    Male  Consultant      Masters   53   \n",
       "2        1003  Emp_3         IT  Female   Executive  High School   24   \n",
       "3        1004  Emp_4  Marketing  Female    Engineer      Masters   23   \n",
       "4        1005  Emp_5  Marketing    Male   Executive          PhD   54   \n",
       "\n",
       "     Salary  Bonus Attrition  TotalCompensation  \n",
       "0   39239.0   6909        No            46148.0  \n",
       "1   30416.0  17150        No            47566.0  \n",
       "2   23412.0  28602        No            52014.0  \n",
       "3  101976.0   5080        No           107056.0  \n",
       "4   44406.0   7083        No            51489.0  "
      ]
     },
     "execution_count": 2,
     "metadata": {},
     "output_type": "execute_result"
    }
   ],
   "source": [
    "# 1. Import Libraries & Load Data\n",
    "\n",
    "import pandas as pd\n",
    "import numpy as np\n",
    "\n",
    "# Load dataset\n",
    "df = pd.read_csv(\"../data/processed/hr_dataset.csv\")\n",
    "df.head()"
   ]
  },
  {
   "cell_type": "code",
   "execution_count": 3,
   "id": "b29a5067",
   "metadata": {},
   "outputs": [
    {
     "name": "stdout",
     "output_type": "stream",
     "text": [
      "['Sales' 'Marketing' 'IT' 'Finance' 'Operations' 'HR' nan 'I.T' 'HRR'\n",
      " 'Finanace' 'hr' 'Slaes' 'Markting']\n",
      "['Sales' 'Marketing' 'IT' 'Finance' 'Operations' 'HR' nan 'Slaes']\n"
     ]
    }
   ],
   "source": [
    "# Inspect unique values\n",
    "print(df[\"Department\"].unique())\n",
    "\n",
    "# Standardize department names (fix misspellings, capitalization)\n",
    "df[\"Department\"] = df[\"Department\"].str.strip().str.title()\n",
    "df[\"Department\"] = df[\"Department\"].replace({\n",
    "    \"It\": \"IT\",\n",
    "    \"I.T\": \"IT\",\n",
    "    \"Hr\": \"HR\",\n",
    "    \"Hrr\": \"HR\",\n",
    "    \"Finanace\": \"Finance\",\n",
    "    \"Sales \": \"Sales\",\n",
    "    \"Markting\": \"Marketing\"\n",
    "})\n",
    "\n",
    "print(df[\"Department\"].unique())"
   ]
  },
  {
   "cell_type": "code",
   "execution_count": 4,
   "id": "a3c657fd",
   "metadata": {},
   "outputs": [
    {
     "name": "stdout",
     "output_type": "stream",
     "text": [
      "      EmployeeID      Name  Department  Gender     JobRole    Education  Age  \\\n",
      "242         1243   Emp_243          HR    Male  Consultant  High School   33   \n",
      "376         1377   Emp_377     Finance  Female    Engineer    Bachelors   36   \n",
      "992         1993   Emp_993          IT    Male     Manager    Bachelors   33   \n",
      "1037        2038  Emp_1038     Finance  Female  Consultant      Masters   53   \n",
      "1368        2369  Emp_1369  Operations  Female     Analyst      Masters   51   \n",
      "1382        2383  Emp_1383          IT  Female  Consultant    Bachelors   48   \n",
      "1665        2666  Emp_1666     Finance  Female  Consultant    Bachelors   31   \n",
      "1752        2753  Emp_1753          IT    Male   Executive  High School   29   \n",
      "\n",
      "       Salary  Bonus Attrition  TotalCompensation  \n",
      "242  -20000.0  16528        No            -3472.0  \n",
      "376   -5000.0  12953        No             7953.0  \n",
      "992       0.0  20976        No            20976.0  \n",
      "1037 -15000.0  15649        No              649.0  \n",
      "1368      0.0   7365        No             7365.0  \n",
      "1382      0.0  17824        No            17824.0  \n",
      "1665 -30000.0  23677        No            -6323.0  \n",
      "1752      0.0   8465        No             8465.0  \n"
     ]
    }
   ],
   "source": [
    "# Check for negative or zero salaries\n",
    "print(df[df[\"Salary\"] <= 0])\n",
    "\n",
    "# Remove or correct unrealistic salaries\n",
    "df = df[df[\"Salary\"] > 0]\n",
    "\n",
    "# Optional: cap very high salaries (e.g., above 200k)\n",
    "df.loc[df[\"Salary\"] > 200000, \"Salary\"] = 200000"
   ]
  },
  {
   "cell_type": "code",
   "execution_count": 5,
   "id": "e29593fb",
   "metadata": {},
   "outputs": [],
   "source": [
    "# EmployeeID is just an identifier\n",
    "df = df.drop(columns=[\"EmployeeID\"], errors=\"ignore\")"
   ]
  },
  {
   "cell_type": "code",
   "execution_count": 6,
   "id": "080a2d38",
   "metadata": {},
   "outputs": [
    {
     "name": "stdout",
     "output_type": "stream",
     "text": [
      "Name                  0\n",
      "Department           38\n",
      "Gender               39\n",
      "JobRole               0\n",
      "Education             0\n",
      "Age                   0\n",
      "Salary                0\n",
      "Bonus                 0\n",
      "Attrition            40\n",
      "TotalCompensation     0\n",
      "dtype: int64\n"
     ]
    }
   ],
   "source": [
    "# Check missing values\n",
    "print(df.isnull().sum())\n",
    "\n",
    "# Fill or drop based on context\n",
    "df = df.dropna()   # simple option (later you can try imputing)"
   ]
  },
  {
   "cell_type": "code",
   "execution_count": 7,
   "id": "80f1eac0",
   "metadata": {},
   "outputs": [],
   "source": [
    "# Create TotalCompensation if missing\n",
    "if \"TotalCompensation\" not in df.columns:\n",
    "    df[\"TotalCompensation\"] = df[\"Salary\"] + df[\"Bonus\"].fillna(0)"
   ]
  },
  {
   "cell_type": "code",
   "execution_count": 8,
   "id": "6cea8a95",
   "metadata": {},
   "outputs": [
    {
     "name": "stdout",
     "output_type": "stream",
     "text": [
      "✅ Cleaned dataset saved as hr_dataset_cleaned.csv\n"
     ]
    }
   ],
   "source": [
    "df.to_csv(\"../data/processed/hr_dataset_cleaned.csv\", index=False)\n",
    "print(\"✅ Cleaned dataset saved as hr_dataset_cleaned.csv\")"
   ]
  }
 ],
 "metadata": {
  "kernelspec": {
   "display_name": "Python 3",
   "language": "python",
   "name": "python3"
  },
  "language_info": {
   "codemirror_mode": {
    "name": "ipython",
    "version": 3
   },
   "file_extension": ".py",
   "mimetype": "text/x-python",
   "name": "python",
   "nbconvert_exporter": "python",
   "pygments_lexer": "ipython3",
   "version": "3.10.0"
  }
 },
 "nbformat": 4,
 "nbformat_minor": 5
}
